{
 "cells": [
  {
   "cell_type": "code",
   "execution_count": 9,
   "id": "5252c35c-ad8a-4d12-8a2c-c99dbbdc9931",
   "metadata": {},
   "outputs": [],
   "source": [
    "from pathlib import Path\n",
    "import urllib.request\n",
    "\n",
    "# create folder to store posts\n",
    "\n",
    "\n",
    "# create folder to store posts\n",
    "path = Path()\n",
    "\n",
    "\n",
    "# folder to store a specific post\n",
    "path_to_post = path / \"my-jupyter-post\"\n",
    "path_to_post.mkdir(exist_ok=True)\n",
    "\n",
    "# config file\n",
    "urllib.request.urlretrieve(\n",
    "    \"https://raw.githubusercontent.com/ploomber/jupyblog/master/examples/quick-start-jupyter/jupyblog.yaml\",\n",
    "    path /\"jupyblog.yaml\",\n",
    ")\n",
    "\n",
    "# download post\n",
    "_ = urllib.request.urlretrieve(\n",
    "    \"https://raw.githubusercontent.com/ploomber/jupyblog/master/examples/quick-start-jupyter/my-post/post.ipynb\",\n",
    "    path_to_post /\"post.ipynb\",\n",
    ")"
   ]
  },
  {
   "cell_type": "code",
   "execution_count": 2,
   "id": "c467f3d7-d381-4d10-987d-5cd2929390b9",
   "metadata": {},
   "outputs": [],
   "source": [
    "from pathlib import Path\n",
    "import urllib.request"
   ]
  },
  {
   "cell_type": "code",
   "execution_count": 4,
   "id": "32a8d63c-da30-4b92-b1b8-4a8d44321ab7",
   "metadata": {},
   "outputs": [],
   "source": [
    "path_to_post = \"my-jupyter-post\""
   ]
  },
  {
   "cell_type": "code",
   "execution_count": 5,
   "id": "e7e9a115-a287-4943-bd84-a77a5a259d9d",
   "metadata": {},
   "outputs": [
    {
     "ename": "AttributeError",
     "evalue": "'str' object has no attribute 'mkdir'",
     "output_type": "error",
     "traceback": [
      "\u001b[1;31m---------------------------------------------------------------------------\u001b[0m",
      "\u001b[1;31mAttributeError\u001b[0m                            Traceback (most recent call last)",
      "Cell \u001b[1;32mIn[5], line 1\u001b[0m\n\u001b[1;32m----> 1\u001b[0m path_to_post\u001b[38;5;241m.\u001b[39mmkdir()\n",
      "\u001b[1;31mAttributeError\u001b[0m: 'str' object has no attribute 'mkdir'"
     ]
    }
   ],
   "source": [
    "path_to_post.mkdir()"
   ]
  },
  {
   "cell_type": "code",
   "execution_count": 6,
   "id": "ef61e79b-7d8e-4610-90b5-024e71aa3d43",
   "metadata": {},
   "outputs": [
    {
     "data": {
      "text/plain": [
       "WindowsPath('.')"
      ]
     },
     "execution_count": 6,
     "metadata": {},
     "output_type": "execute_result"
    }
   ],
   "source": [
    "Path()"
   ]
  },
  {
   "cell_type": "code",
   "execution_count": null,
   "id": "54bcde8d-6dae-439a-b127-64f7b6973720",
   "metadata": {},
   "outputs": [],
   "source": []
  }
 ],
 "metadata": {
  "kernelspec": {
   "display_name": "Python 3 (ipykernel)",
   "language": "python",
   "name": "python3"
  },
  "language_info": {
   "codemirror_mode": {
    "name": "ipython",
    "version": 3
   },
   "file_extension": ".py",
   "mimetype": "text/x-python",
   "name": "python",
   "nbconvert_exporter": "python",
   "pygments_lexer": "ipython3",
   "version": "3.12.8"
  }
 },
 "nbformat": 4,
 "nbformat_minor": 5
}
