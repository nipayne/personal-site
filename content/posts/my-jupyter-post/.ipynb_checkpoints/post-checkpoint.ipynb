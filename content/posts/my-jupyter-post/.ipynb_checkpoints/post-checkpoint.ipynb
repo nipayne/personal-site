{
 "cells": [
  {
   "cell_type": "raw",
   "id": "80fe68ec",
   "metadata": {
    "papermill": {
     "duration": 0.005259,
     "end_time": "2022-12-21T02:14:19.125255",
     "exception": false,
     "start_time": "2022-12-21T02:14:19.119996",
     "status": "completed"
    },
    "tags": []
   },
   "source": [
    "---\n",
    "title: My post\n",
    "jupyblog:\n",
    "    execute_code: false\n",
    "description: Some post description\n",
    "---"
   ]
  },
  {
   "cell_type": "markdown",
   "id": "fa4840ef",
   "metadata": {
    "papermill": {
     "duration": 0.002249,
     "end_time": "2022-12-21T02:14:19.130472",
     "exception": false,
     "start_time": "2022-12-21T02:14:19.128223",
     "status": "completed"
    },
    "tags": []
   },
   "source": [
    "## My section\n",
    "\n",
    "This sentence is some description:"
   ]
  },
  {
   "cell_type": "code",
   "execution_count": 1,
   "id": "9c02d00d",
   "metadata": {
    "execution": {
     "iopub.execute_input": "2022-12-21T02:14:19.134891Z",
     "iopub.status.busy": "2022-12-21T02:14:19.134540Z",
     "iopub.status.idle": "2022-12-21T02:14:19.143205Z",
     "shell.execute_reply": "2022-12-21T02:14:19.142766Z"
    },
    "papermill": {
     "duration": 0.012566,
     "end_time": "2022-12-21T02:14:19.144574",
     "exception": false,
     "start_time": "2022-12-21T02:14:19.132008",
     "status": "completed"
    },
    "tags": []
   },
   "outputs": [
    {
     "name": "stdout",
     "output_type": "stream",
     "text": [
      "Result is: 42\n"
     ]
    }
   ],
   "source": [
    "x = 21\n",
    "y = 2\n",
    "\n",
    "result = x * y\n",
    "print(f\"Result is: {result}\")"
   ]
  },
  {
   "cell_type": "markdown",
   "id": "380cc3f4",
   "metadata": {
    "papermill": {
     "duration": 0.001071,
     "end_time": "2022-12-21T02:14:19.146820",
     "exception": false,
     "start_time": "2022-12-21T02:14:19.145749",
     "status": "completed"
    },
    "tags": []
   },
   "source": [
    "Let's show a second snippet:\n"
   ]
  },
  {
   "cell_type": "code",
   "execution_count": 2,
   "id": "8d7f5813",
   "metadata": {
    "execution": {
     "iopub.execute_input": "2022-12-21T02:14:19.149609Z",
     "iopub.status.busy": "2022-12-21T02:14:19.149434Z",
     "iopub.status.idle": "2022-12-21T02:14:19.151878Z",
     "shell.execute_reply": "2022-12-21T02:14:19.151479Z"
    },
    "papermill": {
     "duration": 0.005074,
     "end_time": "2022-12-21T02:14:19.152962",
     "exception": false,
     "start_time": "2022-12-21T02:14:19.147888",
     "status": "completed"
    },
    "tags": []
   },
   "outputs": [
    {
     "name": "stdout",
     "output_type": "stream",
     "text": [
      "Result is: 42\n"
     ]
    }
   ],
   "source": [
    "x = 1\n",
    "y = 41\n",
    "\n",
    "result = x + y\n",
    "print(f\"Result is: {result}\")"
   ]
  }
 ],
 "metadata": {
  "jupytext": {
   "cell_metadata_filter": "-all",
   "main_language": "python",
   "notebook_metadata_filter": "-all"
  },
  "kernelspec": {
   "display_name": "Python 3.10.8 ('vscode')",
   "language": "python",
   "name": "python3"
  },
  "language_info": {
   "codemirror_mode": {
    "name": "ipython",
    "version": 3
   },
   "file_extension": ".py",
   "mimetype": "text/x-python",
   "name": "python",
   "nbconvert_exporter": "python",
   "pygments_lexer": "ipython3",
   "version": "3.10.8"
  },
  "papermill": {
   "default_parameters": {},
   "duration": 0.999977,
   "end_time": "2022-12-21T02:14:19.271496",
   "environment_variables": {},
   "exception": null,
   "input_path": "post.ipynb",
   "output_path": "post.ipynb",
   "parameters": {},
   "start_time": "2022-12-21T02:14:18.271519",
   "version": "2.4.0"
  },
  "vscode": {
   "interpreter": {
    "hash": "311775ae6d8092fc5ad2ca66a4929014f2bf84f063ca6cd26574943ab663bae2"
   }
  }
 },
 "nbformat": 4,
 "nbformat_minor": 5
}
